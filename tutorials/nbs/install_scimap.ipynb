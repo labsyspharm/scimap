{
 "cells": [
  {
   "cell_type": "markdown",
   "id": "27ab4d1b-aebd-4c7f-add4-fd6f95c59384",
   "metadata": {},
   "source": [
    "# 📁 Setting up SCIMAP"
   ]
  },
  {
   "cell_type": "markdown",
   "id": "36347b5f-c35a-4523-858e-c0a13e5aaa3d",
   "metadata": {},
   "source": [
    "Before we set up *SCIMAP*, we highly recommend using an environment manager like Conda. Using an environment manager like Conda allows you to create and manage isolated environments with specific package versions and dependencies.\n",
    "\n",
    "Download and Install the right [conda](https://docs.anaconda.com/free/miniconda/) based on the opertating system that you are using"
   ]
  },
  {
   "cell_type": "markdown",
   "id": "cbc707f4-22d5-4e0a-8f42-223e02b8ed1b",
   "metadata": {},
   "source": [
    "<hr>"
   ]
  },
  {
   "cell_type": "markdown",
   "id": "a601ee55-0a0b-46f7-83b8-03ba775fb00f",
   "metadata": {},
   "source": [
    "## Let's create a new conda environment and install SCIMAP"
   ]
  },
  {
   "cell_type": "markdown",
   "id": "a2fdc58c-2022-4004-bce5-f3d60d903b67",
   "metadata": {},
   "source": [
    "Use the terminal (mac/linux) and anaconda promt (windows) to run the following command"
   ]
  },
  {
   "cell_type": "markdown",
   "id": "a1a491b0-6e6a-4123-9a25-bcdbdcb8b29a",
   "metadata": {},
   "source": [
    "```\n",
    "conda create --name scimap -y python=3.10\n",
    "```"
   ]
  },
  {
   "cell_type": "markdown",
   "id": "6a7ae5f4-ae92-4bd7-bc00-7e3d1f893cd4",
   "metadata": {},
   "source": [
    "Install SCIMAP within the conda environment."
   ]
  },
  {
   "cell_type": "markdown",
   "id": "052ac398-cdef-43bd-bed2-c8369346e9ed",
   "metadata": {},
   "source": [
    "```\n",
    "conda activate scimap\n",
    "pip install scimap\n",
    "```"
   ]
  },
  {
   "cell_type": "markdown",
   "id": "c920c0d2-46e9-49f7-8af0-14905ebe589a",
   "metadata": {},
   "source": [
    "<hr>"
   ]
  },
  {
   "cell_type": "markdown",
   "id": "5d41a4e4-7a74-47bf-8ff8-ab44f68740b3",
   "metadata": {},
   "source": [
    "## Set up Jupyter Notebook / Spyder or any interactive IDE"
   ]
  },
  {
   "cell_type": "markdown",
   "id": "782c8025-f547-4809-8c10-55f3e497c5f8",
   "metadata": {},
   "source": [
    "Install jupyter notebook within the conda environment\n"
   ]
  },
  {
   "cell_type": "markdown",
   "id": "7c30ed1b-b706-450c-89a1-af038cff6f98",
   "metadata": {},
   "source": [
    "```\n",
    "pip install notebook ipywidgets\n",
    "```"
   ]
  },
  {
   "cell_type": "markdown",
   "id": "75dd2c81-85f6-4f78-9742-def6ed37a351",
   "metadata": {},
   "source": [
    "After installation, open Jupyter Notebook by typing the following command in the terminal, ensuring that the cspot environment is activated and you are within the environment before executing the jupyter notebook command."
   ]
  },
  {
   "cell_type": "markdown",
   "id": "527ea50b-3b57-4ef0-ac14-853244700887",
   "metadata": {},
   "source": [
    "```\n",
    "jupyter notebook\n",
    "```"
   ]
  },
  {
   "cell_type": "markdown",
   "id": "d9b6e555-c4e2-4194-9553-9e80370c3c99",
   "metadata": {},
   "source": [
    "We will talk about how to run *SCIMAP* in the next tutorial."
   ]
  }
 ],
 "metadata": {
  "kernelspec": {
   "display_name": "Python 3 (ipykernel)",
   "language": "python",
   "name": "python3"
  },
  "language_info": {
   "codemirror_mode": {
    "name": "ipython",
    "version": 3
   },
   "file_extension": ".py",
   "mimetype": "text/x-python",
   "name": "python",
   "nbconvert_exporter": "python",
   "pygments_lexer": "ipython3",
   "version": "3.10.13"
  }
 },
 "nbformat": 4,
 "nbformat_minor": 5
}
