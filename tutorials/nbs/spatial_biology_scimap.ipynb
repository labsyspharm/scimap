{
 "cells": [
  {
   "cell_type": "markdown",
   "id": "d1cbee0e-c2db-439e-9a65-6668a8f7c2f7",
   "metadata": {},
   "source": [
    "# 🗂️ Mastering Spatial Analysis of Multiplex Imaging Data with SCIMAP"
   ]
  },
  {
   "cell_type": "markdown",
   "id": "85372f11-761d-46a4-b284-ec09c7d852e6",
   "metadata": {},
   "source": [
    "<hr>"
   ]
  },
  {
   "cell_type": "markdown",
   "id": "e3bf3531-be5d-4897-8973-53dec2ea0410",
   "metadata": {},
   "source": [
    "This series is designed to equip researchers, data scientists, and enthusiasts with the knowledge and tools necessary to unlock the full potential of spatial analysis techniques. Whether you're new to the field or looking to deepen your understanding, these tutorials will guide you through the intricacies of analyzing complex imaging data, enabling you to uncover the spatial relationships and patterns that lie within."
   ]
  },
  {
   "cell_type": "markdown",
   "id": "78e9fc52-0057-4e52-b7aa-8b4eba6f5efd",
   "metadata": {},
   "source": [
    "𝕏 Let us know what else you would like to see [here](https://twitter.com/nirmallab)!"
   ]
  },
  {
   "cell_type": "markdown",
   "id": "f5a8f66e-ad98-4e4c-ac2a-221d75236475",
   "metadata": {},
   "source": [
    "<hr>"
   ]
  },
  {
   "cell_type": "markdown",
   "id": "0007b804-4141-4e5f-8b31-09bb67fa329d",
   "metadata": {},
   "source": [
    "## Set up"
   ]
  },
  {
   "cell_type": "markdown",
   "id": "87e54ec3-4a00-413f-946f-ca71b089d1d3",
   "metadata": {},
   "source": [
    "🤖 [Install Scimap](../md/install_scimap.md)  \n",
    "📥 [Download demo data](../md/demo_data_scimap.md)  \n",
    "📁 [Prepare demo data for analysis](../md/anndata_scimap.md)  "
   ]
  },
  {
   "cell_type": "markdown",
   "id": "c067ea75-9634-46d2-83ed-f307bd553404",
   "metadata": {},
   "source": [
    "## Cell Phenotyping"
   ]
  },
  {
   "cell_type": "markdown",
   "id": "8325f12b-54ae-458d-b31f-8461bc201ae5",
   "metadata": {},
   "source": [
    "🤹🏼‍♂️ [Phenotype cells by unsupervised clustering](../md/clustering_scimap.md)  \n",
    "👽 [Phenotype cells using a hierarchical probabilistic model](../md/scimap_phenotyping.md)  \n",
    "🙌 [Add Regions of Interest (ROIs) for exploration](../md/add_rois_scimap.md)  \n",
    "🤩 [Explore the composition of defined cell types between samples and ROIs](../md/cell_proportion_scimap.md)  "
   ]
  },
  {
   "cell_type": "markdown",
   "id": "a1173f6d-0251-4f1b-9bc6-35569d521314",
   "metadata": {},
   "source": [
    "## Spatial Analysis"
   ]
  },
  {
   "cell_type": "markdown",
   "id": "f3c1c61a-80ca-4e8b-bf30-86f9927ef116",
   "metadata": {},
   "source": [
    "📍 [Calculate and visualize distances between cell types](../md/spatial_analysis_scimap.md)  \n",
    "🤏 [Cell-cell interaction/ co-occurrence analysis](../md/cell_interaction_scimap.md)  \n",
    "⚖️ [Compare proximity scores between samples](../md/proximity_scimap.md)  \n",
    "🔭 [Search for spatial patterns](../md/spatial_search_scimap.md)  "
   ]
  },
  {
   "cell_type": "markdown",
   "id": "f534998e-d659-432c-b662-6353fb32f2f4",
   "metadata": {},
   "source": [
    "## Cellular Neighbourhoods"
   ]
  },
  {
   "cell_type": "markdown",
   "id": "918987af-a8ce-4f17-ac51-a6e185bd7f07",
   "metadata": {},
   "source": [
    "🌳 [Compute neighborhoods using cell-type or cluster information (includes LDA method)](../md/spatial_lda_scimap.md)  \n",
    "🚀 [Compute neighborhoods using expression data](../md/spatial_lag_scimap.md)  "
   ]
  },
  {
   "cell_type": "markdown",
   "id": "92b66145-228e-4035-ae54-f13ec84c2a15",
   "metadata": {},
   "source": [
    "## Export and Helper Functions"
   ]
  },
  {
   "cell_type": "markdown",
   "id": "0b75751d-7ebd-4973-9fb7-82c3821476a2",
   "metadata": {},
   "source": [
    "⬇️ [Export analysis results to `.csv`](../md/export_scimap.md)  \n",
    "👩‍🎨 [Animate with scimap](../md/animate_scimap.md)  \n",
    "👑 [Merge objects, Classify cells etc..](../md/scimap_helper_functions.md)  "
   ]
  },
  {
   "cell_type": "markdown",
   "id": "b92a5ce9-c4c9-4340-8e7e-2dc424356768",
   "metadata": {},
   "source": [
    "## Videos"
   ]
  },
  {
   "cell_type": "markdown",
   "id": "bde23447-396b-4a3f-8983-6a4ff20928c2",
   "metadata": {},
   "source": [
    "🎥 [Video tutorials](../md/scimap_video.md)  "
   ]
  }
 ],
 "metadata": {
  "kernelspec": {
   "display_name": "Python 3 (ipykernel)",
   "language": "python",
   "name": "python3"
  },
  "language_info": {
   "codemirror_mode": {
    "name": "ipython",
    "version": 3
   },
   "file_extension": ".py",
   "mimetype": "text/x-python",
   "name": "python",
   "nbconvert_exporter": "python",
   "pygments_lexer": "ipython3",
   "version": "3.10.13"
  }
 },
 "nbformat": 4,
 "nbformat_minor": 5
}
