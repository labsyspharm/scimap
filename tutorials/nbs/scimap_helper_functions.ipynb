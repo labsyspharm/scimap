{
 "cells": [
  {
   "cell_type": "markdown",
   "id": "f7d61b48-b01a-47d7-888e-5607a2a5c0ec",
   "metadata": {},
   "source": [
    "# 👑 Additional Helper Function to make Your Life Easier"
   ]
  },
  {
   "cell_type": "code",
   "execution_count": 1,
   "id": "712ee8f5-8f7e-474f-8461-dae91f2cbbcb",
   "metadata": {},
   "outputs": [
    {
     "name": "stdout",
     "output_type": "stream",
     "text": [
      "Running SCIMAP  1.3.14\n"
     ]
    }
   ],
   "source": [
    "# import packages\n",
    "import scimap as sm\n",
    "import anndata as ad"
   ]
  },
  {
   "cell_type": "code",
   "execution_count": 2,
   "id": "1b85b278-3bac-47e7-99d0-3377f3584c0b",
   "metadata": {},
   "outputs": [],
   "source": [
    "# Load the data that we saved in the last tutorial (with ROIs added)\n",
    "adata = ad.read_h5ad('/Users/aj/Dropbox (Partners HealthCare)/nirmal lab/resources/exemplarData/scimapExampleData/scimapExampleData.h5ad')"
   ]
  },
  {
   "cell_type": "markdown",
   "id": "41ab7573-57dd-434d-9808-acff704d07cf",
   "metadata": {},
   "source": [
    "### classify"
   ]
  },
  {
   "cell_type": "markdown",
   "id": "966c1636-bf82-4c94-8520-f8880cc15965",
   "metadata": {},
   "source": [
    "The `sm.hl.classify` function allows users to annotate cells based on the presence or absence of certain markers, providing the option to apply classifications across the entire dataset or within specific subsets, such as groups of cells that have already been phenotyped or clustered. This functionality is especially useful for quickly determining the percentage of cells expressing a particular marker within a subset of interest. A prerequisite for using this function is that gating has been performed and the rescale function has been applied, as it relies on threshold-based classification."
   ]
  },
  {
   "cell_type": "code",
   "execution_count": 3,
   "id": "2a17ab0e-da55-4dc6-ab04-7653c991f8e3",
   "metadata": {},
   "outputs": [
    {
     "data": {
      "text/plain": [
       "Index(['ELANE', 'CD57', 'CD45', 'CD11B', 'SMA', 'CD16', 'ECAD', 'FOXP3',\n",
       "       'NCAM'],\n",
       "      dtype='object')"
      ]
     },
     "execution_count": 3,
     "metadata": {},
     "output_type": "execute_result"
    }
   ],
   "source": [
    "adata.var.index"
   ]
  },
  {
   "cell_type": "code",
   "execution_count": null,
   "id": "e421fd19-6631-4fbd-bbb5-de8d7c6d5660",
   "metadata": {},
   "outputs": [],
   "source": [
    "# I am going to find out how many cells are CD45 and FOXP3 positive and ECAD negative likely indicating Tregs\n",
    "adata = sm.hl.classify(adata, pos=['CD45', 'FOXP3'], neg=['ECAD'], collapse_failed=False, label='T_cell_classification')"
   ]
  },
  {
   "cell_type": "code",
   "execution_count": null,
   "id": "6a10b530-8d79-474f-a849-501412be2d66",
   "metadata": {},
   "outputs": [],
   "source": [
    "# let's look at the results\n",
    "adata.obs['T_cell_classification'].value_counts()"
   ]
  },
  {
   "cell_type": "code",
   "execution_count": null,
   "id": "16da3b09-371b-455d-994b-a38fe2626176",
   "metadata": {},
   "outputs": [],
   "source": []
  },
  {
   "cell_type": "markdown",
   "id": "9406ee55-636c-4f55-a7c8-1bde5e1af46e",
   "metadata": {},
   "source": [
    "### dropFeatures"
   ]
  },
  {
   "cell_type": "markdown",
   "id": "4b5404c1-0612-4c46-8d88-209ef2eab678",
   "metadata": {},
   "source": [
    "The `sm.hl.dropFeatures` function simplifies the refinement of an adata object by allowing users to selectively exclude markers, cells, metadata columns, and particular cell groups."
   ]
  },
  {
   "cell_type": "code",
   "execution_count": 4,
   "id": "ef105308-0ceb-41a4-871e-57ea687c47ca",
   "metadata": {},
   "outputs": [
    {
     "data": {
      "text/plain": [
       "AnnData object with n_obs × n_vars = 11201 × 9\n",
       "    obs: 'X_centroid', 'Y_centroid', 'Area', 'MajorAxisLength', 'MinorAxisLength', 'Eccentricity', 'Solidity', 'Extent', 'Orientation', 'CellID', 'imageid', 'leiden', 'leiden_phenotype', 'ROI', 'phenotype', 'spatial_pscore', 'index_info', 'neigh_kmeans', 'RCNs', 'spatial_lda_kmeans', 'spatial_expression_kmeans', 'spatial_aggregate_radius', 'tumor_similarity_ROI1'\n",
       "    uns: 'all_markers', 'foldchange_fc', 'foldchange_pval', 'gates', 'spatial_count', 'spatial_distance', 'spatial_expression', 'spatial_interaction_radius', 'spatial_interaction_radius_roi', 'spatial_lda', 'spatial_lda_probability', 'spatial_pscore', 'tumor_similarity'\n",
       "    obsm: 'umap'\n",
       "    layers: 'log'"
      ]
     },
     "execution_count": 4,
     "metadata": {},
     "output_type": "execute_result"
    }
   ],
   "source": [
    "adata"
   ]
  },
  {
   "cell_type": "markdown",
   "id": "e5d9b279-468b-439f-96db-b477b2f005f6",
   "metadata": {},
   "source": [
    "The dataset now contains 11201 cella and 9 markers"
   ]
  },
  {
   "cell_type": "code",
   "execution_count": 5,
   "id": "9549352f-c6b9-4435-9a6a-62b6459debf4",
   "metadata": {},
   "outputs": [],
   "source": [
    "# Lets drop 2 markers\n",
    "adata = sm.hl.dropFeatures(adata, drop_markers=['CD45', 'FOXP3'])"
   ]
  },
  {
   "cell_type": "code",
   "execution_count": 6,
   "id": "22ad71f7-7949-41d9-8749-6068347c7fd9",
   "metadata": {},
   "outputs": [
    {
     "data": {
      "text/plain": [
       "AnnData object with n_obs × n_vars = 11201 × 7\n",
       "    obs: 'X_centroid', 'Y_centroid', 'Area', 'MajorAxisLength', 'MinorAxisLength', 'Eccentricity', 'Solidity', 'Extent', 'Orientation', 'CellID', 'imageid', 'leiden', 'leiden_phenotype', 'ROI', 'phenotype', 'spatial_pscore', 'index_info', 'neigh_kmeans', 'RCNs', 'spatial_lda_kmeans', 'spatial_expression_kmeans', 'spatial_aggregate_radius', 'tumor_similarity_ROI1'\n",
       "    uns: 'all_markers', 'foldchange_fc', 'foldchange_pval', 'gates', 'spatial_count', 'spatial_distance', 'spatial_expression', 'spatial_interaction_radius', 'spatial_interaction_radius_roi', 'spatial_lda', 'spatial_lda_probability', 'spatial_pscore', 'tumor_similarity'\n",
       "    obsm: 'umap'\n",
       "    layers: 'log'"
      ]
     },
     "execution_count": 6,
     "metadata": {},
     "output_type": "execute_result"
    }
   ],
   "source": [
    "adata"
   ]
  },
  {
   "cell_type": "markdown",
   "id": "551e28dd-5973-488f-924b-4b80e679ac6e",
   "metadata": {},
   "source": [
    "As you can see now the dataset contains only 7 markers"
   ]
  },
  {
   "cell_type": "code",
   "execution_count": 9,
   "id": "0309a903-0241-40a5-b87b-2e56ed4cec5e",
   "metadata": {},
   "outputs": [],
   "source": [
    "# lets also drop some cells\n",
    "adata = sm.hl.dropFeatures(adata, drop_groups='ROI3', groups_column='ROI')"
   ]
  },
  {
   "cell_type": "code",
   "execution_count": 10,
   "id": "cf954d9c-c8d4-45cb-95ee-68c7b8066439",
   "metadata": {},
   "outputs": [
    {
     "data": {
      "text/plain": [
       "AnnData object with n_obs × n_vars = 9629 × 7\n",
       "    obs: 'X_centroid', 'Y_centroid', 'Area', 'MajorAxisLength', 'MinorAxisLength', 'Eccentricity', 'Solidity', 'Extent', 'Orientation', 'CellID', 'imageid', 'leiden', 'leiden_phenotype', 'ROI', 'phenotype', 'spatial_pscore', 'index_info', 'neigh_kmeans', 'RCNs', 'spatial_lda_kmeans', 'spatial_expression_kmeans', 'spatial_aggregate_radius', 'tumor_similarity_ROI1'\n",
       "    uns: 'all_markers', 'foldchange_fc', 'foldchange_pval', 'gates', 'spatial_count', 'spatial_distance', 'spatial_expression', 'spatial_interaction_radius', 'spatial_interaction_radius_roi', 'spatial_lda', 'spatial_lda_probability', 'spatial_pscore', 'tumor_similarity'\n",
       "    obsm: 'umap'\n",
       "    layers: 'log'"
      ]
     },
     "execution_count": 10,
     "metadata": {},
     "output_type": "execute_result"
    }
   ],
   "source": [
    "adata"
   ]
  },
  {
   "cell_type": "markdown",
   "id": "93c868ed-c8a8-47ff-a3dd-d60780db22c6",
   "metadata": {},
   "source": [
    "As you can see now the dataset contains only 9629 cells now"
   ]
  },
  {
   "cell_type": "code",
   "execution_count": null,
   "id": "44932a3a-b3a8-4d76-9a63-7648b969f29f",
   "metadata": {},
   "outputs": [],
   "source": []
  }
 ],
 "metadata": {
  "kernelspec": {
   "display_name": "Python 3 (ipykernel)",
   "language": "python",
   "name": "python3"
  },
  "language_info": {
   "codemirror_mode": {
    "name": "ipython",
    "version": 3
   },
   "file_extension": ".py",
   "mimetype": "text/x-python",
   "name": "python",
   "nbconvert_exporter": "python",
   "pygments_lexer": "ipython3",
   "version": "3.10.13"
  }
 },
 "nbformat": 4,
 "nbformat_minor": 5
}
