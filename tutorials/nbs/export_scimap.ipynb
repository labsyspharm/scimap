{
 "cells": [
  {
   "cell_type": "markdown",
   "id": "943955c9-a4f4-459c-9e5e-9c482fc55015",
   "metadata": {},
   "source": [
    "# ⬇️ Export data from SCIMAP into csv"
   ]
  },
  {
   "cell_type": "markdown",
   "id": "55d4b8b9-250b-459f-8f8c-fd5bfd907be8",
   "metadata": {},
   "source": [
    "After completing some analysis and when you're ready to export the data, you can utilize the specified function for this purpose. However, it's important to note that if you plan to return and continue your analysis later, you should rely on the `.h5ad` file you've saved. While exporting to a CSV file can be handy, only a subset of the data—specifically, what's contained in `adata.obs` and `adata.X`—is exported. Be aware that all other compartments of the data are not preserved during the CSV export process."
   ]
  },
  {
   "cell_type": "code",
   "execution_count": 1,
   "id": "596c35d1-fa5c-42a8-ae0e-02e0acb36d16",
   "metadata": {},
   "outputs": [
    {
     "name": "stdout",
     "output_type": "stream",
     "text": [
      "Running SCIMAP  1.3.14\n"
     ]
    }
   ],
   "source": [
    "# import packages\n",
    "import scimap as sm\n",
    "import anndata as ad"
   ]
  },
  {
   "cell_type": "code",
   "execution_count": 2,
   "id": "7865a0b4-e6fe-4943-8e52-faeecf4b9160",
   "metadata": {},
   "outputs": [],
   "source": [
    "# Load the data that we saved in the last tutorial (with ROIs added)\n",
    "adata = ad.read_h5ad('/Users/aj/Dropbox (Partners HealthCare)/nirmal lab/resources/exemplarData/scimapExampleData/scimapExampleData.h5ad')"
   ]
  },
  {
   "cell_type": "code",
   "execution_count": 3,
   "id": "d2b4abb4-2dd5-47a6-ba13-394502cae60f",
   "metadata": {},
   "outputs": [],
   "source": [
    "# by default the raw data is exported\n",
    "output_dir= '/Users/aj/Dropbox (Partners HealthCare)/nirmal lab/resources/exemplarData/scimapExampleData'\n",
    "sm.hl.scimap_to_csv(adata, output_dir=output_dir, file_name='scimapProcessed.csv')"
   ]
  },
  {
   "cell_type": "markdown",
   "id": "54ae39d1-bd27-44d5-b54b-5ae0b0ec56b0",
   "metadata": {},
   "source": [
    "Refer to the documentation to learn how to export additional layers beyond just the raw data."
   ]
  },
  {
   "cell_type": "code",
   "execution_count": null,
   "id": "c00a6919-4364-4407-82c5-dc4d82360be8",
   "metadata": {},
   "outputs": [],
   "source": []
  }
 ],
 "metadata": {
  "kernelspec": {
   "display_name": "Python 3 (ipykernel)",
   "language": "python",
   "name": "python3"
  },
  "language_info": {
   "codemirror_mode": {
    "name": "ipython",
    "version": 3
   },
   "file_extension": ".py",
   "mimetype": "text/x-python",
   "name": "python",
   "nbconvert_exporter": "python",
   "pygments_lexer": "ipython3",
   "version": "3.10.13"
  }
 },
 "nbformat": 4,
 "nbformat_minor": 5
}
