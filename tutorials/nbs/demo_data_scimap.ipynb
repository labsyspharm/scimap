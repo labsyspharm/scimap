{
 "cells": [
  {
   "cell_type": "markdown",
   "id": "1be33375-5961-4de0-b298-2e95bd03f000",
   "metadata": {},
   "source": [
    "# 📥 SCIMAP Demo Data"
   ]
  },
  {
   "cell_type": "markdown",
   "id": "19f306b3-25e3-4130-995e-382d59b74d2b",
   "metadata": {},
   "source": [
    "A short guide to downloading our demo data for trying out the **scimap toolbox**."
   ]
  },
  {
   "cell_type": "markdown",
   "id": "dfa7001e-ac43-4e2e-ab77-6c899dcee781",
   "metadata": {},
   "source": [
    "**You can download the data in two methods:**\n",
    "\n",
    "1. Utilize the built-in download function of scimap.\n",
    "2. Visit the website through your browser and manually download the data."
   ]
  },
  {
   "cell_type": "markdown",
   "id": "cc076a7d-528f-4115-a907-e21fb9fb8d54",
   "metadata": {},
   "source": [
    "### 1. Built in function"
   ]
  },
  {
   "cell_type": "code",
   "execution_count": 1,
   "id": "d99d5348-fe28-4676-acd1-7c651f8c5fc1",
   "metadata": {},
   "outputs": [
    {
     "name": "stdout",
     "output_type": "stream",
     "text": [
      "Running SCIMAP  1.3.16\n"
     ]
    }
   ],
   "source": [
    "import scimap as sm"
   ]
  },
  {
   "cell_type": "code",
   "execution_count": 2,
   "id": "eb92e132-674c-47f0-b4a0-65a75eb8058b",
   "metadata": {},
   "outputs": [
    {
     "name": "stdout",
     "output_type": "stream",
     "text": [
      "Downloading scimapExampleData.zip...\n"
     ]
    },
    {
     "name": "stderr",
     "output_type": "stream",
     "text": [
      "scimapExampleData.zip: 100%|███████████████████████████████████████████████████████████| 287M/287M [04:35<00:00, 1.09MiB/s]"
     ]
    },
    {
     "name": "stdout",
     "output_type": "stream",
     "text": [
      "Downloaded scimapExampleData.zip to /Users/aj/Downloads/scimapExampleData.zip\n"
     ]
    },
    {
     "name": "stderr",
     "output_type": "stream",
     "text": [
      "\n"
     ]
    }
   ],
   "source": [
    "# Provide a download directory\n",
    "download_directory = '/Users/aj/Downloads'\n",
    "sm.hl.downloadDemoData (download_directory)"
   ]
  },
  {
   "cell_type": "markdown",
   "id": "7b01408a-6505-468e-b384-be5316afd352",
   "metadata": {},
   "source": [
    "A zipped data folder will appear in the specified directory. Simply unzip it, and you'll be all set to start."
   ]
  },
  {
   "cell_type": "markdown",
   "id": "83a9cf87-7904-46b1-9d52-45f4780cb30f",
   "metadata": {},
   "source": [
    "### 2. Download from Zonodo"
   ]
  },
  {
   "cell_type": "markdown",
   "id": "17a4ece7-4a97-40a4-be25-4d247ebb1f8a",
   "metadata": {},
   "source": [
    "- Go to [Zonodo](https://zenodo.org/records/10845625)\n",
    "- Click on the download button\n",
    "- unzip the downloaded file\n",
    "\n",
    "DOI: [10.5281/zenodo.10845624](https://zenodo.org/records/10845625)"
   ]
  },
  {
   "cell_type": "markdown",
   "id": "15b3e78f-7464-4bd8-9a95-e953a80f1b48",
   "metadata": {},
   "source": [
    "If you have any questions or encounter any issues while following the tutorial, please don't hesitate to contact us for assistance."
   ]
  }
 ],
 "metadata": {
  "kernelspec": {
   "display_name": "Python 3 (ipykernel)",
   "language": "python",
   "name": "python3"
  },
  "language_info": {
   "codemirror_mode": {
    "name": "ipython",
    "version": 3
   },
   "file_extension": ".py",
   "mimetype": "text/x-python",
   "name": "python",
   "nbconvert_exporter": "python",
   "pygments_lexer": "ipython3",
   "version": "3.10.13"
  }
 },
 "nbformat": 4,
 "nbformat_minor": 5
}
